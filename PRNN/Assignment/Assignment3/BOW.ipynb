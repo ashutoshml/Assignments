{
 "cells": [
  {
   "cell_type": "code",
   "execution_count": 1,
   "metadata": {
    "collapsed": true
   },
   "outputs": [],
   "source": [
    "import numpy as np\n",
    "import csv\n",
    "import pandas as pd\n",
    "from sklearn import svm\n",
    "from nltk.corpus import stopwords\n",
    "import re\n",
    "import nltk\n",
    "from nltk.tokenize import *\n",
    "from nltk.data import load"
   ]
  },
  {
   "cell_type": "markdown",
   "metadata": {},
   "source": [
    "### Reading Files Line by Line"
   ]
  },
  {
   "cell_type": "code",
   "execution_count": 2,
   "metadata": {
    "collapsed": true
   },
   "outputs": [],
   "source": [
    "def sentenceExtractionForTraining(dirName, fileName, classes):\n",
    "    sentencesClass = []\n",
    "    for i in range(0,len(classes)):\n",
    "        sentences = readFile(dirName+fileName[i])\n",
    "        sentencesClass.append(sentences)\n",
    "    return sentencesClass"
   ]
  },
  {
   "cell_type": "code",
   "execution_count": 3,
   "metadata": {
    "collapsed": true
   },
   "outputs": [],
   "source": [
    "def readFile(fileName):\n",
    "    f = open(fileName,\"r+\")\n",
    "    sentences = []\n",
    "    for line in f.readlines():\n",
    "        line = line.strip()\n",
    "        if len(line)==0 :\n",
    "            continue\n",
    "        if \"TIMEX3\" in line:\n",
    "            continue \n",
    "        sentences.append(line.lower().rstrip())\n",
    "    f.close()\n",
    "    return sentences"
   ]
  },
  {
   "cell_type": "markdown",
   "metadata": {},
   "source": [
    "### Removing non word characters\n"
   ]
  },
  {
   "cell_type": "code",
   "execution_count": 4,
   "metadata": {
    "collapsed": true
   },
   "outputs": [],
   "source": [
    "def removeFancyChars(sentences):\n",
    "    lengthPhrase = len(sentences)\n",
    "    for i in range(lengthPhrase):\n",
    "        sentences[i] = re.sub(r'([^\\s\\w]|_)+', '', sentences[i])\n",
    "    return sentences"
   ]
  },
  {
   "cell_type": "code",
   "execution_count": 5,
   "metadata": {
    "collapsed": true
   },
   "outputs": [],
   "source": [
    "def removeFC(sentencesClass):\n",
    "    for i in range(0, len(sentencesClass)):\n",
    "        sentencesClass[i] = removeFancyChars(sentencesClass[i])\n",
    "    return sentencesClass"
   ]
  },
  {
   "cell_type": "markdown",
   "metadata": {},
   "source": [
    "### Parts of Speech "
   ]
  },
  {
   "cell_type": "code",
   "execution_count": 6,
   "metadata": {
    "collapsed": true
   },
   "outputs": [],
   "source": [
    "def POSForSentence(sentence):\n",
    "    text = word_tokenize(sentence)\n",
    "    posSentence = nltk.pos_tag(text)\n",
    "    posSentence = [y for x, y in posSentence]\n",
    "    return posSentence"
   ]
  },
  {
   "cell_type": "code",
   "execution_count": 7,
   "metadata": {
    "collapsed": true
   },
   "outputs": [],
   "source": [
    "def getUniquePOS():\n",
    "    tagdict = load('help/tagsets/upenn_tagset.pickle')\n",
    "    return len(tagdict), tagdict.keys()"
   ]
  },
  {
   "cell_type": "markdown",
   "metadata": {},
   "source": [
    "### Removing StopWords"
   ]
  },
  {
   "cell_type": "code",
   "execution_count": 8,
   "metadata": {
    "collapsed": true
   },
   "outputs": [],
   "source": [
    "def removeSWFromSent(sentence):\n",
    "    words = sentence.split()\n",
    "    sentence = []\n",
    "    for w in words:\n",
    "        if w not in stopwords.words('english'):\n",
    "            sentence.append(w)\n",
    "    if len(sentence) == 0: \n",
    "        sentence = [\"\"]\n",
    "    return convertlistToString(sentence)"
   ]
  },
  {
   "cell_type": "code",
   "execution_count": 9,
   "metadata": {
    "collapsed": true
   },
   "outputs": [],
   "source": [
    "def removeSWFromPar(sentences):\n",
    "    sents = []\n",
    "    for i in range(0, len(sentences)):\n",
    "        sent = removeSWFromSent(sentences[i])\n",
    "        sents.append(sent)\n",
    "    return sents"
   ]
  },
  {
   "cell_type": "code",
   "execution_count": 10,
   "metadata": {
    "collapsed": true
   },
   "outputs": [],
   "source": [
    "def removeSWFromClass(sentencesClass):\n",
    "    sentClass = []\n",
    "    for i in range(0, len(sentencesClass)):\n",
    "        sentClass.append(removeSWFromPar(sentencesClass[i]))\n",
    "    return sentClass"
   ]
  },
  {
   "cell_type": "code",
   "execution_count": 11,
   "metadata": {
    "collapsed": true
   },
   "outputs": [],
   "source": [
    "def convertlistToString(sentence):\n",
    "    sentence = \" \".join(sentence)\n",
    "    return sentence"
   ]
  },
  {
   "cell_type": "markdown",
   "metadata": {},
   "source": [
    "### Count unique words"
   ]
  },
  {
   "cell_type": "code",
   "execution_count": 12,
   "metadata": {
    "collapsed": true
   },
   "outputs": [],
   "source": [
    "def uniqueWordsCount(sentencesClass):\n",
    "    uniqueWords = set()\n",
    "    for i in range(0,len(sentencesClass)):\n",
    "        for j in range(0,len(sentencesClass[i])):\n",
    "            words = sentencesClass[i][j].split()\n",
    "            for k in words:\n",
    "                uniqueWords.add(k)\n",
    "    return list(uniqueWords)"
   ]
  },
  {
   "cell_type": "markdown",
   "metadata": {},
   "source": [
    "### Bag of words"
   ]
  },
  {
   "cell_type": "code",
   "execution_count": 13,
   "metadata": {
    "collapsed": true
   },
   "outputs": [],
   "source": [
    "def totalSentences(sentencesClass):\n",
    "    size = 0\n",
    "    for i in range(0, len(sentencesClass)):\n",
    "        size += len(sentencesClass[i])\n",
    "    return size;"
   ]
  },
  {
   "cell_type": "code",
   "execution_count": 14,
   "metadata": {
    "collapsed": true
   },
   "outputs": [],
   "source": [
    "def defineBOWM(sentencesClass, vocab):\n",
    "    vocabSize = len(vocab)\n",
    "    n = totalSentences(sentencesClass)\n",
    "    labels = np.zeros(n)\n",
    "    mat = np.zeros((n,vocabSize))\n",
    "    k = 0\n",
    "    for i in range(0, len(sentencesClass)):\n",
    "        for j in range(0, len(sentencesClass[i])):\n",
    "            words = sentencesClass[i][j].split()\n",
    "            for w in words:\n",
    "                mat[k, vocab.index(w)] = 1.0\n",
    "            labels[k] = i+1\n",
    "            k+=1\n",
    "    return mat, labels"
   ]
  },
  {
   "cell_type": "code",
   "execution_count": 15,
   "metadata": {
    "collapsed": false
   },
   "outputs": [],
   "source": [
    "def defineBOWMPOS(originalSentencesClass, sentencesClass, vocab):\n",
    "    vocabSize = len(vocab)\n",
    "    n = totalSentences(sentencesClass)\n",
    "    labels = np.zeros(n)\n",
    "    sizePOS, POSList = getUniquePOS()\n",
    "    mat = np.zeros((n, vocabSize + sizePOS))\n",
    "    matFromBOWM, labels = defineBOWM(sentencesClass, vocab)\n",
    "    \n",
    "    for i in range(0, n):\n",
    "        mat[i,:vocabSize] = matFromBOWM[i]\n",
    "        \n",
    "    k = 0\n",
    "    for i in range(0, len(originalSentencesClass)):\n",
    "        for j in range(0,  len(originalSentencesClass[i])):\n",
    "            pos = POSForSentence(originalSentencesClass[i][j])\n",
    "            for p in pos:\n",
    "                mat[k, vocabSize + POSList.index(p)] = 1.0\n",
    "            k+=1\n",
    "    return mat, labels"
   ]
  },
  {
   "cell_type": "markdown",
   "metadata": {},
   "source": [
    "### Save features"
   ]
  },
  {
   "cell_type": "code",
   "execution_count": 16,
   "metadata": {
    "collapsed": true
   },
   "outputs": [],
   "source": [
    "def finalFeaturesLabel(X,y):\n",
    "    n, d = X.shape\n",
    "    finalMat = np.zeros((n,d+1))\n",
    "    for i in range(0, n):\n",
    "        finalMat[i, 0] = y[i]\n",
    "        finalMat[i, 1:] = X[i]\n",
    "    return finalMat"
   ]
  },
  {
   "cell_type": "code",
   "execution_count": 17,
   "metadata": {
    "collapsed": true
   },
   "outputs": [],
   "source": [
    "def saveBOW(fileName, finalMat):\n",
    "    np.save(fileName, finalMat)"
   ]
  },
  {
   "cell_type": "code",
   "execution_count": 18,
   "metadata": {
    "collapsed": true
   },
   "outputs": [],
   "source": [
    "def saveVocab(fileName, vocab):\n",
    "    np.save(fileName, vocab)"
   ]
  },
  {
   "cell_type": "markdown",
   "metadata": {},
   "source": [
    "## Main"
   ]
  },
  {
   "cell_type": "code",
   "execution_count": 21,
   "metadata": {
    "collapsed": true
   },
   "outputs": [],
   "source": [
    "def main():\n",
    "    dirName = \"Email-classification_dataset/\"\n",
    "    classes = [1,2,3,4,5]\n",
    "    fileName = [\"RD-positive-800.txt\", \"meetings-positive-800.txt\", \"negative-800.txt\", \"fyi-positive-800.txt\", \"tp-positive-500.txt\",]\n",
    "    removeStopWords = True\n",
    "    \n",
    "    originalsentencesClass = sentenceExtractionForTraining(dirName, fileName, classes)\n",
    "    \n",
    "    sentencesClass = removeFC(originalsentencesClass)\n",
    "    vocab = uniqueWordsCount(sentencesClass)\n",
    "    XBOW, yBOW = defineBOWM(sentencesClass, vocab)\n",
    "    finalMatBOW = finalFeaturesLabel(XBOW, yBOW)\n",
    "    saveBOW(\"bow.npy\", finalMatBOW)\n",
    "    saveVocab(\"vocab.npy\", vocab)\n",
    "    \n",
    "    sentencesClassWOSW = removeSWFromClass(sentencesClass)\n",
    "    vocabWOSW = uniqueWordsCount(sentencesClassWOSW)\n",
    "    XBOWWOSW, yBOWWOSW = defineBOWM(sentencesClassWOSW, vocabWOSW)\n",
    "    finalMatBOWWOSW = finalFeaturesLabel(XBOWWOSW, yBOWWOSW)\n",
    "    saveBOW(\"bowsw.npy\", finalMatBOWWOSW)\n",
    "    saveVocab(\"vocabsw.npy\", vocabWOSW)\n",
    "    \n",
    "    XBOWPOS, yBOWPOS = defineBOWMPOS(originalsentencesClass, sentencesClass, vocab)\n",
    "    finalMatBOWPOS = finalFeaturesLabel(XBOWPOS, yBOWPOS)\n",
    "    saveBOW(\"bowpos.npy\", finalMatBOWPOS)\n",
    "    \n",
    "    XBOWPOSSW, yBOWPOSSW = defineBOWMPOS(originalsentencesClass, sentencesClassWOSW, vocabWOSW)\n",
    "    finalMatBOWPOSSW = finalFeaturesLabel(XBOWPOSSW, yBOWPOSSW)\n",
    "    saveBOW(\"bowpossw.npy\", finalMatBOWPOSSW)"
   ]
  },
  {
   "cell_type": "code",
   "execution_count": 22,
   "metadata": {
    "collapsed": false
   },
   "outputs": [],
   "source": [
    "if __name__==\"__main__\":\n",
    "    main()"
   ]
  }
 ],
 "metadata": {
  "kernelspec": {
   "display_name": "Python 2",
   "language": "python",
   "name": "python2"
  },
  "language_info": {
   "codemirror_mode": {
    "name": "ipython",
    "version": 2.0
   },
   "file_extension": ".py",
   "mimetype": "text/x-python",
   "name": "python",
   "nbconvert_exporter": "python",
   "pygments_lexer": "ipython2",
   "version": "2.7.13"
  }
 },
 "nbformat": 4,
 "nbformat_minor": 0
}