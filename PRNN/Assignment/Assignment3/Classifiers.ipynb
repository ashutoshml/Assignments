{
 "cells": [
  {
   "cell_type": "code",
   "execution_count": 184,
   "metadata": {
    "collapsed": true
   },
   "outputs": [],
   "source": [
    "from sklearn import svm\n",
    "from sklearn.linear_model import LogisticRegression;\n",
    "from sklearn.ensemble import RandomForestClassifier;\n",
    "from sklearn.neural_network import MLPClassifier;\n",
    "from sklearn.tree import DecisionTreeClassifier;\n",
    "import numpy as np\n",
    "from sklearn.model_selection import cross_val_score\n",
    "from sklearn.model_selection import train_test_split\n",
    "import math\n",
    "from sklearn.naive_bayes import GaussianNB\n",
    "from sklearn.naive_bayes import MultinomialNB\n",
    "from sklearn.decomposition import PCA;"
   ]
  },
  {
   "cell_type": "code",
   "execution_count": 185,
   "metadata": {
    "collapsed": true
   },
   "outputs": [],
   "source": [
    "fileNameTrainFeatures = \"bowpos.npy\"\n",
    "fileNameTestFeatures = \"testbowpos.npy\""
   ]
  },
  {
   "cell_type": "code",
   "execution_count": 186,
   "metadata": {
    "collapsed": false
   },
   "outputs": [],
   "source": [
    "def loadFeaturesFile(fileName):\n",
    "    featureLabels = np.load(fileName)\n",
    "    featureLabels = np.asarray(featureLabels)\n",
    "    return featureLabels"
   ]
  },
  {
   "cell_type": "code",
   "execution_count": 187,
   "metadata": {
    "collapsed": true
   },
   "outputs": [],
   "source": [
    "def loadFeaturesTest(fileName):\n",
    "    featureTest = np.load(fileName)\n",
    "    return featureTest"
   ]
  },
  {
   "cell_type": "code",
   "execution_count": 188,
   "metadata": {
    "collapsed": true
   },
   "outputs": [],
   "source": [
    "def getClassSize(featureLabels):\n",
    "    size = np.zeros(5)\n",
    "    for i in range(0, len(featureLabels)):\n",
    "        k = int(featureLabels[i][0] - 1)\n",
    "        size[k] += 1\n",
    "    return size"
   ]
  },
  {
   "cell_type": "code",
   "execution_count": 189,
   "metadata": {
    "collapsed": true
   },
   "outputs": [],
   "source": [
    "def defineTrain(featureLabels):\n",
    "    np.random.shuffle(featureLabels)\n",
    "    trainFeat = []\n",
    "    trainLabel = []\n",
    "    \n",
    "    n, d = featureLabels.shape\n",
    "    for i in range(0, n):\n",
    "        trainLabel.append(int(featureLabels[i][0]))\n",
    "        trainFeat.append(featureLabels[i][1:])\n",
    "    \n",
    "    return trainFeat, trainLabel"
   ]
  },
  {
   "cell_type": "code",
   "execution_count": 190,
   "metadata": {
    "collapsed": false
   },
   "outputs": [],
   "source": [
    "featureLabels = loadFeaturesFile(fileNameTrainFeatures)\n",
    "getClassSize(featureLabels)\n",
    "testAvailable = True\n",
    "\n",
    "if testAvailable:\n",
    "    featureTest = loadFeaturesTest(fileNameTestFeatures)\n",
    "    Xt, yt = defineTrain(featureLabels)\n",
    "    Xtest = featureTest\n",
    "else:\n",
    "    Xt, yt = defineTrain(featureLabels)"
   ]
  },
  {
   "cell_type": "markdown",
   "metadata": {},
   "source": [
    "### PCA"
   ]
  },
  {
   "cell_type": "code",
   "execution_count": 61,
   "metadata": {
    "collapsed": false
   },
   "outputs": [],
   "source": [
    "pca = PCA(n_components = 300, copy = False);\n",
    "Xt = pca.fit_transform(Xt);"
   ]
  },
  {
   "cell_type": "markdown",
   "metadata": {},
   "source": [
    "### SVC"
   ]
  },
  {
   "cell_type": "code",
   "execution_count": 122,
   "metadata": {
    "collapsed": false
   },
   "outputs": [],
   "source": [
    "svmClassifier = svm.SVC(C=1e3, kernel='rbf', tol=1e-5, decision_function_shape='ovr')\n",
    "svmscores = cross_val_score(svmClassifier, Xt, yt, cv=5)"
   ]
  },
  {
   "cell_type": "code",
   "execution_count": 127,
   "metadata": {
    "collapsed": false
   },
   "outputs": [
    {
     "data": {
      "text/plain": [
       "array([ 0.70675676,  0.69864865,  0.70810811,  0.6972973 ,  0.73108108])"
      ]
     },
     "execution_count": 127,
     "metadata": {},
     "output_type": "execute_result"
    }
   ],
   "source": [
    "svmscores"
   ]
  },
  {
   "cell_type": "markdown",
   "metadata": {},
   "source": [
    "### Logistic Regression"
   ]
  },
  {
   "cell_type": "code",
   "execution_count": 432,
   "metadata": {
    "collapsed": true
   },
   "outputs": [],
   "source": [
    "LRclassifier = LogisticRegression(multi_class = 'multinomial',solver = 'lbfgs', C = 1e3);\n",
    "LRscores = cross_val_score(LRclassifier, Xt, yt, cv=5)"
   ]
  },
  {
   "cell_type": "code",
   "execution_count": 436,
   "metadata": {
    "collapsed": false
   },
   "outputs": [
    {
     "data": {
      "text/plain": [
       "array([ 0.65675676,  0.62567568,  0.65945946,  0.61756757,  0.65540541])"
      ]
     },
     "execution_count": 436,
     "metadata": {},
     "output_type": "execute_result"
    }
   ],
   "source": [
    "LRscores"
   ]
  },
  {
   "cell_type": "markdown",
   "metadata": {},
   "source": [
    "### Random Forest"
   ]
  },
  {
   "cell_type": "code",
   "execution_count": 94,
   "metadata": {
    "collapsed": true
   },
   "outputs": [],
   "source": [
    "RFclassifier = RandomForestClassifier(n_estimators = 150, criterion = 'entropy');\n",
    "RFscores = cross_val_score(RFclassifier, Xt, yt, cv=5)"
   ]
  },
  {
   "cell_type": "code",
   "execution_count": 97,
   "metadata": {
    "collapsed": false
   },
   "outputs": [
    {
     "data": {
      "text/plain": [
       "array([ 0.68513514,  0.68108108,  0.66081081,  0.65945946,  0.70135135])"
      ]
     },
     "execution_count": 97,
     "metadata": {},
     "output_type": "execute_result"
    }
   ],
   "source": [
    "RFscores"
   ]
  },
  {
   "cell_type": "markdown",
   "metadata": {},
   "source": [
    "### Naive Bayes"
   ]
  },
  {
   "cell_type": "code",
   "execution_count": 428,
   "metadata": {
    "collapsed": false
   },
   "outputs": [],
   "source": [
    "gnb = MultinomialNB()\n",
    "gnbScores = cross_val_score(gnb, Xt, yt, cv = 5)"
   ]
  },
  {
   "cell_type": "code",
   "execution_count": 438,
   "metadata": {
    "collapsed": false
   },
   "outputs": [
    {
     "data": {
      "text/plain": [
       "array([ 0.67162162,  0.67297297,  0.67567568,  0.65810811,  0.69189189])"
      ]
     },
     "execution_count": 438,
     "metadata": {},
     "output_type": "execute_result"
    }
   ],
   "source": [
    "gnbScores"
   ]
  },
  {
   "cell_type": "markdown",
   "metadata": {},
   "source": [
    "### Decision Tree"
   ]
  },
  {
   "cell_type": "code",
   "execution_count": 433,
   "metadata": {
    "collapsed": false
   },
   "outputs": [],
   "source": [
    "DTclassifier = DecisionTreeClassifier(criterion = 'entropy');\n",
    "DTscores = cross_val_score(DTclassifier, Xt, yt, cv=5)"
   ]
  },
  {
   "cell_type": "code",
   "execution_count": 439,
   "metadata": {
    "collapsed": false
   },
   "outputs": [
    {
     "data": {
      "text/plain": [
       "array([ 0.63108108,  0.58513514,  0.61081081,  0.61891892,  0.57972973])"
      ]
     },
     "execution_count": 439,
     "metadata": {},
     "output_type": "execute_result"
    }
   ],
   "source": [
    "DTscores"
   ]
  },
  {
   "cell_type": "markdown",
   "metadata": {},
   "source": [
    "### Neural Network"
   ]
  },
  {
   "cell_type": "code",
   "execution_count": 193,
   "metadata": {
    "collapsed": true
   },
   "outputs": [],
   "source": [
    "NNClassifier = MLPClassifier(hidden_layer_sizes = (200), activation = 'relu', alpha = 1e-4, max_iter = 15000, learning_rate_init = 0.001, early_stopping = True);\n",
    "NNscores = cross_val_score(NNClassifier, Xt, yt, cv=5)"
   ]
  },
  {
   "cell_type": "code",
   "execution_count": 194,
   "metadata": {
    "collapsed": false,
    "scrolled": true
   },
   "outputs": [
    {
     "data": {
      "text/plain": [
       "array([ 0.71081081,  0.7027027 ,  0.69594595,  0.7027027 ,  0.71621622])"
      ]
     },
     "execution_count": 194,
     "metadata": {},
     "output_type": "execute_result"
    }
   ],
   "source": [
    "NNscores"
   ]
  },
  {
   "cell_type": "markdown",
   "metadata": {},
   "source": [
    "# TRAIN AND TEST"
   ]
  },
  {
   "cell_type": "markdown",
   "metadata": {},
   "source": [
    "###  SVM"
   ]
  },
  {
   "cell_type": "code",
   "execution_count": 198,
   "metadata": {
    "collapsed": false
   },
   "outputs": [],
   "source": [
    "svmClassifier = svm.SVC(C=1e3, kernel='rbf', tol=1e-5, decision_function_shape='ovr')\n",
    "svmClassifier = svmClassifier.fit(Xt, yt)\n",
    "labelSVM = svmClassifier.predict(Xtest)"
   ]
  },
  {
   "cell_type": "code",
   "execution_count": 199,
   "metadata": {
    "collapsed": false
   },
   "outputs": [
    {
     "data": {
      "text/plain": [
       "array([5, 4, 5, 4, 4, 4, 4, 2, 2, 4, 5, 2, 1, 3, 1, 1, 1, 4, 1, 1, 2, 4, 4,\n",
       "       1, 2, 4, 2, 3, 2, 1, 1, 4, 4, 4, 1, 4, 1, 4, 3, 2, 2, 1, 2, 3, 1, 5,\n",
       "       5, 3, 2, 2, 2, 2, 5, 2, 3, 2, 2, 1, 5, 1, 1, 2, 2, 2, 5, 1, 1, 2, 4,\n",
       "       5, 4, 4, 2, 5, 5, 1, 5, 5, 4, 5, 1, 5, 1, 1, 4, 1, 4, 5, 3, 4, 4, 2,\n",
       "       4, 5, 5, 2, 1, 5, 2, 5])"
      ]
     },
     "execution_count": 199,
     "metadata": {},
     "output_type": "execute_result"
    }
   ],
   "source": [
    "labelSVM"
   ]
  },
  {
   "cell_type": "code",
   "execution_count": 218,
   "metadata": {
    "collapsed": false
   },
   "outputs": [],
   "source": [
    "NNClassifier = []\n",
    "labelNN = []\n",
    "for i in range(0, 10):\n",
    "    NNClassifier.append(MLPClassifier(hidden_layer_sizes = (200), activation = 'relu', alpha = 1e-4, max_iter = 15000, learning_rate_init = 0.001, early_stopping = True))\n",
    "\n",
    "for i in range(0,10):\n",
    "    NNClassifier[i] = NNClassifier[i].fit(Xt, yt)\n",
    "    labelNN.append(NNClassifier[i].predict(Xtest))\n",
    "\n",
    "labelNN = np.asarray(labelNN)"
   ]
  },
  {
   "cell_type": "code",
   "execution_count": 219,
   "metadata": {
    "collapsed": false
   },
   "outputs": [
    {
     "data": {
      "text/plain": [
       "[5,\n",
       " 4,\n",
       " 5,\n",
       " 4,\n",
       " 3,\n",
       " 4,\n",
       " 4,\n",
       " 5,\n",
       " 2,\n",
       " 4,\n",
       " 5,\n",
       " 2,\n",
       " 2,\n",
       " 3,\n",
       " 1,\n",
       " 1,\n",
       " 1,\n",
       " 4,\n",
       " 2,\n",
       " 1,\n",
       " 2,\n",
       " 4,\n",
       " 4,\n",
       " 5,\n",
       " 2,\n",
       " 4,\n",
       " 2,\n",
       " 3,\n",
       " 2,\n",
       " 1,\n",
       " 1,\n",
       " 4,\n",
       " 4,\n",
       " 4,\n",
       " 1,\n",
       " 4,\n",
       " 1,\n",
       " 4,\n",
       " 3,\n",
       " 2,\n",
       " 2,\n",
       " 1,\n",
       " 2,\n",
       " 3,\n",
       " 2,\n",
       " 1,\n",
       " 3,\n",
       " 3,\n",
       " 2,\n",
       " 5,\n",
       " 2,\n",
       " 2,\n",
       " 5,\n",
       " 2,\n",
       " 3,\n",
       " 2,\n",
       " 2,\n",
       " 1,\n",
       " 1,\n",
       " 1,\n",
       " 1,\n",
       " 2,\n",
       " 2,\n",
       " 2,\n",
       " 5,\n",
       " 1,\n",
       " 1,\n",
       " 2,\n",
       " 4,\n",
       " 5,\n",
       " 4,\n",
       " 4,\n",
       " 2,\n",
       " 5,\n",
       " 5,\n",
       " 1,\n",
       " 1,\n",
       " 5,\n",
       " 4,\n",
       " 5,\n",
       " 1,\n",
       " 5,\n",
       " 1,\n",
       " 1,\n",
       " 4,\n",
       " 1,\n",
       " 4,\n",
       " 5,\n",
       " 3,\n",
       " 5,\n",
       " 4,\n",
       " 2,\n",
       " 4,\n",
       " 5,\n",
       " 5,\n",
       " 2,\n",
       " 1,\n",
       " 5,\n",
       " 2,\n",
       " 5]"
      ]
     },
     "execution_count": 219,
     "metadata": {},
     "output_type": "execute_result"
    }
   ],
   "source": [
    "results = []\n",
    "for j in range(0, labelNN.shape[1]):\n",
    "    z = []\n",
    "    for i in range(0, labelNN.shape[0]):\n",
    "        z.append(labelNN[i][j])\n",
    "    z = np.asarray(z)\n",
    "    r = np.bincount(z).argmax()\n",
    "    results.append(r)\n",
    "\n",
    "results"
   ]
  },
  {
   "cell_type": "code",
   "execution_count": 200,
   "metadata": {
    "collapsed": true
   },
   "outputs": [],
   "source": [
    "def saveSolution(fileName, labels):\n",
    "    f = open(fileName, \"w+\")\n",
    "    for i in labels:\n",
    "        f.write(str(i))\n",
    "        f.write(\"\\n\")\n",
    "    f.close()"
   ]
  },
  {
   "cell_type": "code",
   "execution_count": 220,
   "metadata": {
    "collapsed": false
   },
   "outputs": [],
   "source": [
    "saveSolution(\"assignment3-13962.txt\",results)"
   ]
  },
  {
   "cell_type": "code",
   "execution_count": 212,
   "metadata": {
    "collapsed": false
   },
   "outputs": [
    {
     "data": {
      "text/plain": [
       "1"
      ]
     },
     "execution_count": 212,
     "metadata": {},
     "output_type": "execute_result"
    }
   ],
   "source": [
    ""
   ]
  }
 ],
 "metadata": {
  "kernelspec": {
   "display_name": "Python 2",
   "language": "python",
   "name": "python2"
  },
  "language_info": {
   "codemirror_mode": {
    "name": "ipython",
    "version": 2.0
   },
   "file_extension": ".py",
   "mimetype": "text/x-python",
   "name": "python",
   "nbconvert_exporter": "python",
   "pygments_lexer": "ipython2",
   "version": "2.7.13"
  }
 },
 "nbformat": 4,
 "nbformat_minor": 0
}