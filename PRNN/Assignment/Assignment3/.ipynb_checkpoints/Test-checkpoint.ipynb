{
 "cells": [
  {
   "cell_type": "code",
   "execution_count": 36,
   "metadata": {
    "collapsed": true
   },
   "outputs": [],
   "source": [
    "import numpy as np\n",
    "import csv\n",
    "import pandas as pd\n",
    "from sklearn import svm\n",
    "from nltk.corpus import stopwords\n",
    "import re\n",
    "from nltk.tokenize import *"
   ]
  },
  {
   "cell_type": "markdown",
   "metadata": {},
   "source": [
    "### Load Test File"
   ]
  },
  {
   "cell_type": "code",
   "execution_count": 4,
   "metadata": {
    "collapsed": true
   },
   "outputs": [],
   "source": [
    "def readFile(fileName):\n",
    "    f = open(fileName,\"r+\")\n",
    "    sentences = []\n",
    "    for line in f.readlines():\n",
    "        line = line.strip()\n",
    "        if len(line) == 0:\n",
    "            continue\n",
    "        if \"TIMEX3\" in line:\n",
    "            continue \n",
    "        sentences.append(line.lower().rstrip())\n",
    "    f.close()\n",
    "    return sentences"
   ]
  },
  {
   "cell_type": "code",
   "execution_count": 7,
   "metadata": {
    "collapsed": true
   },
   "outputs": [],
   "source": [
    "def loadW2V(fileName):\n",
    "    w2v = np.load(fileName).item()\n",
    "    return w2v"
   ]
  },
  {
   "cell_type": "code",
   "execution_count": 15,
   "metadata": {
    "collapsed": true
   },
   "outputs": [],
   "source": [
    "def loadVocab(fileName):\n",
    "    vocab = np.load(fileName)\n",
    "    return vocab"
   ]
  },
  {
   "cell_type": "markdown",
   "metadata": {},
   "source": [
    "### For Parts of Speech"
   ]
  },
  {
   "cell_type": "code",
   "execution_count": 48,
   "metadata": {
    "collapsed": true
   },
   "outputs": [],
   "source": [
    "def POSForSentence(sentence):\n",
    "    text = word_tokenize(sentence)\n",
    "    posSentence = nltk.pos_tag(text)\n",
    "    posSentence = [y for x, y in posSentence]\n",
    "    return posSentence"
   ]
  },
  {
   "cell_type": "code",
   "execution_count": 49,
   "metadata": {
    "collapsed": true
   },
   "outputs": [],
   "source": [
    "def getUniquePOS():\n",
    "    tagdict = load('help/tagsets/upenn_tagset.pickle')\n",
    "    return len(tagdict), tagdict.keys()"
   ]
  },
  {
   "cell_type": "markdown",
   "metadata": {},
   "source": [
    "### Remove Non Word Character"
   ]
  },
  {
   "cell_type": "code",
   "execution_count": 43,
   "metadata": {
    "collapsed": true
   },
   "outputs": [],
   "source": [
    "def removeFancyChars(sentences):\n",
    "    lengthPhrase = len(sentences)\n",
    "    for i in range(lengthPhrase):\n",
    "        sentences[i] = re.sub(r'([^\\s\\w]|_)+', '', sentences[i])\n",
    "    return sentences"
   ]
  },
  {
   "cell_type": "markdown",
   "metadata": {},
   "source": [
    "### Stop Words"
   ]
  },
  {
   "cell_type": "code",
   "execution_count": null,
   "metadata": {
    "collapsed": true
   },
   "outputs": [],
   "source": [
    "def removeSWFromSent(sentence):\n",
    "    words = sentence.split()\n",
    "    sentence = []\n",
    "    for w in words:\n",
    "        if w not in stopwords.words('english'):\n",
    "            sentence.append(w)\n",
    "    if len(sentence) == 0: \n",
    "        sentence = [\"\"]\n",
    "    return convertlistToString(sentence)"
   ]
  },
  {
   "cell_type": "code",
   "execution_count": 34,
   "metadata": {
    "collapsed": true
   },
   "outputs": [],
   "source": [
    "def removeSWFromPar(sentences):\n",
    "    sents = []\n",
    "    for i in range(0, len(sentences)):\n",
    "        sent = removeSWFromSent(sentences[i])\n",
    "        sents.append(sent)\n",
    "    return sents"
   ]
  },
  {
   "cell_type": "code",
   "execution_count": 35,
   "metadata": {
    "collapsed": true
   },
   "outputs": [],
   "source": [
    "def convertlistToString(sentence):\n",
    "    sentence = \" \".join(sentence)\n",
    "    return sentence"
   ]
  },
  {
   "cell_type": "markdown",
   "metadata": {},
   "source": [
    "### Define BOW Model"
   ]
  },
  {
   "cell_type": "code",
   "execution_count": 50,
   "metadata": {
    "collapsed": true
   },
   "outputs": [],
   "source": [
    "def defineBOWM(sentences, vocab):\n",
    "    vocabSize = len(vocab)\n",
    "    n = len(sentences)\n",
    "    mat = np.zeros((n,vocabSize))\n",
    "    k = 0\n",
    "    for i in range(0, n):\n",
    "        words = sentences[i].split()\n",
    "        for w in words:\n",
    "            if w in vocab:\n",
    "                mat[k, vocab.index(w)] = 1.0\n",
    "        k+=1\n",
    "    return mat"
   ]
  },
  {
   "cell_type": "code",
   "execution_count": 55,
   "metadata": {
    "collapsed": true
   },
   "outputs": [],
   "source": [
    "def defineBOWMPOS(originalSentences, sentences, vocab):\n",
    "    vocabSize = len(vocab)\n",
    "    n = len(sentences)\n",
    "    sizePOS, POSList = getUniquePOS()\n",
    "    mat = np.zeros((n, vocabSize + sizePOS))\n",
    "    matFromBOWM = defineBOWM(sentences, vocab)\n",
    "    \n",
    "    for i in range(0, n):\n",
    "        mat[i,:vocabSize] = matFromBOWM[i]\n",
    "        \n",
    "    k = 0\n",
    "    for i in range(0, len(originalSentences)):\n",
    "        pos = POSForSentence(originalSentencesClass[i][j])\n",
    "        for p in pos:\n",
    "            mat[k, vocabSize + POSList.index(p)] = 1.0\n",
    "        k+=1\n",
    "    \n",
    "    return mat"
   ]
  },
  {
   "cell_type": "markdown",
   "metadata": {},
   "source": [
    "### Define W2V Model"
   ]
  },
  {
   "cell_type": "code",
   "execution_count": 51,
   "metadata": {
    "collapsed": true
   },
   "outputs": [],
   "source": [
    "def defineW2V(sentences, w2v, w2vSize = 300):\n",
    "    n = len(sentences)\n",
    "    mat = np.zeros((n, w2vSize))\n",
    "    for i in range(0, n):\n",
    "        words = sentences[i].split()\n",
    "        d = np.zeros(300)\n",
    "        ind = 0.0\n",
    "        for w in words:\n",
    "            if w not in w2v:\n",
    "                w2v[w] = np.random.uniform(-0.25,0.25,dim) \n",
    "            d += w2v[w]\n",
    "            ind += 1.0\n",
    "        d /= ind\n",
    "        mat[i] = d\n",
    "    return mat"
   ]
  },
  {
   "cell_type": "code",
   "execution_count": 53,
   "metadata": {
    "collapsed": true
   },
   "outputs": [],
   "source": [
    "def defineW2VPOS(originalSentences, sentences, w2v, dim = 300):\n",
    "    n = len(sentences)\n",
    "    sizePOS, POSList = getUniquePOS()\n",
    "    mat = np.zeros((n, dim + sizePOS))\n",
    "    matFromW2V = defineW2V(sentences, w2v)\n",
    "    \n",
    "    for i in range(0, n):\n",
    "        mat[i,:dim] = matFromW2V[i]\n",
    "        \n",
    "    k = 0\n",
    "    for i in range(0, len(originalSentences)):\n",
    "        pos = POSForSentence(originalSentences[i])\n",
    "        for p in pos:\n",
    "            mat[k, dim + POSList.index(p)] = 1.0\n",
    "        k+=1\n",
    "    \n",
    "    return mat"
   ]
  },
  {
   "cell_type": "markdown",
   "metadata": {},
   "source": [
    "### Save features "
   ]
  },
  {
   "cell_type": "code",
   "execution_count": 33,
   "metadata": {
    "collapsed": true
   },
   "outputs": [],
   "source": [
    "def savetestFile(fileName, mat):\n",
    "    np.save(fileName, mat)"
   ]
  },
  {
   "cell_type": "markdown",
   "metadata": {},
   "source": [
    "### Main"
   ]
  },
  {
   "cell_type": "code",
   "execution_count": 56,
   "metadata": {
    "collapsed": false
   },
   "outputs": [
    {
     "ename": "SyntaxError",
     "evalue": "invalid syntax (<ipython-input-56-6808527e2c49>, line 15)",
     "output_type": "error",
     "traceback": [
      "\u001b[0;36m  File \u001b[0;32m\"<ipython-input-56-6808527e2c49>\"\u001b[0;36m, line \u001b[0;32m15\u001b[0m\n\u001b[0;31m    savetestFile(\"testw2v.npy\"matW2V)\u001b[0m\n\u001b[0m                                   ^\u001b[0m\n\u001b[0;31mSyntaxError\u001b[0m\u001b[0;31m:\u001b[0m invalid syntax\n"
     ]
    }
   ],
   "source": [
    "def main():\n",
    "    testFileName = \"\"\n",
    "    w2vFile = \"word2VecDict.npy\"\n",
    "    vocabswFile = \"vocabsw.npy\"\n",
    "    vocabFile = \"vocab.npy\"\n",
    "    \n",
    "    originalsentences = readFile(testFileName)\n",
    "    sentences = removeFancyChars(sentences)\n",
    "    \n",
    "    w2v = loadW2V(w2vFile)\n",
    "    vocabsw = loadVocab(vocabswFile)\n",
    "    vocab = loadVocab(vocabFile)\n",
    "    \n",
    "    matW2V = defineW2V(sentences, w2v)\n",
    "    savetestFile(\"testw2v.npy\",matW2V)\n",
    "    \n",
    "    matW2VPOS = defineW2VPOS(originalsentences, sentences, w2v)\n",
    "    savetestFile(\"testw2vpos.npy\")\n",
    "    \n",
    "    sentences = removeSWFromPar(sentences)\n",
    "    matBOW = defineBOWM(sentences, vocab)\n",
    "    saveBOWM(matBOW)"
   ]
  },
  {
   "cell_type": "code",
   "execution_count": 30,
   "metadata": {
    "collapsed": false
   },
   "outputs": [
    {
     "name": "stdout",
     "output_type": "stream",
     "text": [
      "1\n"
     ]
    }
   ],
   "source": [
    "if __name__ == \"__main__\":\n",
    "    main()"
   ]
  }
 ],
 "metadata": {
  "kernelspec": {
   "display_name": "Python 2",
   "language": "python",
   "name": "python2"
  },
  "language_info": {
   "codemirror_mode": {
    "name": "ipython",
    "version": 2
   },
   "file_extension": ".py",
   "mimetype": "text/x-python",
   "name": "python",
   "nbconvert_exporter": "python",
   "pygments_lexer": "ipython2",
   "version": "2.7.13"
  }
 },
 "nbformat": 4,
 "nbformat_minor": 2
}
