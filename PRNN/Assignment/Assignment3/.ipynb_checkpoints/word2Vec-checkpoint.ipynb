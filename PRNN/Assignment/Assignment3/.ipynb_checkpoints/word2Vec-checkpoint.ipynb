{
 "cells": [
  {
   "cell_type": "code",
   "execution_count": 1,
   "metadata": {
    "collapsed": true
   },
   "outputs": [],
   "source": [
    "import numpy as np\n",
    "import csv\n",
    "import pandas as pd\n",
    "from sklearn import svm\n",
    "from nltk.corpus import stopwords\n",
    "import re\n",
    "import nltk\n",
    "from nltk.tokenize import *\n",
    "from nltk.data import load"
   ]
  },
  {
   "cell_type": "markdown",
   "metadata": {},
   "source": [
    "### Reading Files Line by Line"
   ]
  },
  {
   "cell_type": "code",
   "execution_count": 2,
   "metadata": {
    "collapsed": true
   },
   "outputs": [],
   "source": [
    "def sentenceExtractionForTraining(dirName, fileName, classes):\n",
    "    sentencesClass = []\n",
    "    for i in range(0,len(classes)):\n",
    "        sentences = readFile(dirName+fileName[i])\n",
    "        sentencesClass.append(sentences)\n",
    "    return sentencesClass"
   ]
  },
  {
   "cell_type": "code",
   "execution_count": 3,
   "metadata": {
    "collapsed": true
   },
   "outputs": [],
   "source": [
    "def readFile(fileName):\n",
    "    f = open(fileName,\"r+\")\n",
    "    sentences = []\n",
    "    for line in f.readlines():\n",
    "        line = line.strip()\n",
    "        if len(line)==0 :\n",
    "            continue\n",
    "        if \"TIMEX3\" in line:\n",
    "            continue \n",
    "        sentences.append(line.lower().rstrip())\n",
    "    f.close()\n",
    "    return sentences"
   ]
  },
  {
   "cell_type": "code",
   "execution_count": 4,
   "metadata": {
    "collapsed": true
   },
   "outputs": [],
   "source": [
    "def createVocab(sentencesClass):\n",
    "    vocab = set()\n",
    "    for i in range(0, len(sentencesClass)):\n",
    "        for j in range(0,len(sentencesClass[i])):\n",
    "            words = sentencesClass[i][j].split()\n",
    "            for w in words:\n",
    "                vocab.add(w)\n",
    "    return vocab"
   ]
  },
  {
   "cell_type": "markdown",
   "metadata": {},
   "source": [
    "### Removing fancy characters"
   ]
  },
  {
   "cell_type": "code",
   "execution_count": 5,
   "metadata": {
    "collapsed": true
   },
   "outputs": [],
   "source": [
    "def removeFancyChars(sentences):\n",
    "    lengthPhrase = len(sentences)\n",
    "    for i in range(lengthPhrase):\n",
    "        sentences[i] = re.sub(r'([^\\s\\w]|_)+', '', sentences[i])\n",
    "    return sentences"
   ]
  },
  {
   "cell_type": "code",
   "execution_count": 6,
   "metadata": {
    "collapsed": true
   },
   "outputs": [],
   "source": [
    "def removeFC(sentencesClass):\n",
    "    for i in range(0, len(sentencesClass)):\n",
    "        sentencesClass[i] = removeFancyChars(sentencesClass[i])\n",
    "    return sentencesClass"
   ]
  },
  {
   "cell_type": "markdown",
   "metadata": {},
   "source": [
    "###  word2vec"
   ]
  },
  {
   "cell_type": "code",
   "execution_count": 7,
   "metadata": {
    "collapsed": true
   },
   "outputs": [],
   "source": [
    "def load_bin_vec(fname, vocab):\n",
    "    \"\"\"\n",
    "    Loads 300x1 word vecs from Google (Mikolov) word2vec\n",
    "    \"\"\"\n",
    "    word_vecs = {}\n",
    "    with open(fname, \"rb\") as f:\n",
    "        header = f.readline()\n",
    "        vocab_size, layer1_size = map(int, header.split())\n",
    "        binary_len = np.dtype('float32').itemsize * layer1_size\n",
    "        for line in xrange(vocab_size):\n",
    "            word = []\n",
    "            while True:\n",
    "                ch = f.read(1)\n",
    "                if ch == ' ':\n",
    "                    word = ''.join(word)\n",
    "                    break\n",
    "                if ch != '\\n':\n",
    "                    word.append(ch)   \n",
    "            if word in vocab:\n",
    "               word_vecs[word] = np.fromstring(f.read(binary_len), dtype='float32')  \n",
    "            else:\n",
    "                f.read(binary_len)\n",
    "    return word_vecs"
   ]
  },
  {
   "cell_type": "code",
   "execution_count": 8,
   "metadata": {
    "collapsed": true
   },
   "outputs": [],
   "source": [
    "def add_unknown_words(word_vecs, vocab, min_df=1, k=300):\n",
    "    for word in vocab:\n",
    "        if word not in word_vecs:\n",
    "            word_vecs[word] = np.random.uniform(-0.25,0.25,k) "
   ]
  },
  {
   "cell_type": "code",
   "execution_count": 9,
   "metadata": {
    "collapsed": true
   },
   "outputs": [],
   "source": [
    "def initializeWordVecs(sentencesClass):\n",
    "    vocab = createVocab(sentencesClass)\n",
    "    w2vFile = \"GoogleNews-vectors-negative300.bin\"\n",
    "    \n",
    "    w2v = load_bin_vec(w2vFile, vocab)\n",
    "    add_unknown_words(w2v, vocab)\n",
    "        \n",
    "    return w2v"
   ]
  },
  {
   "cell_type": "markdown",
   "metadata": {},
   "source": [
    "### For Parts Of Speech"
   ]
  },
  {
   "cell_type": "code",
   "execution_count": 10,
   "metadata": {
    "collapsed": true
   },
   "outputs": [],
   "source": [
    "def POSForSentence(sentence):\n",
    "    text = word_tokenize(sentence)\n",
    "    posSentence = nltk.pos_tag(text)\n",
    "    posSentence = [y for x, y in posSentence]\n",
    "    return posSentence"
   ]
  },
  {
   "cell_type": "code",
   "execution_count": 11,
   "metadata": {
    "collapsed": true
   },
   "outputs": [],
   "source": [
    "def getUniquePOS():\n",
    "    tagdict = load('help/tagsets/upenn_tagset.pickle')\n",
    "    return len(tagdict), tagdict.keys()"
   ]
  },
  {
   "cell_type": "markdown",
   "metadata": {},
   "source": [
    "### For w2v"
   ]
  },
  {
   "cell_type": "code",
   "execution_count": 12,
   "metadata": {
    "collapsed": true
   },
   "outputs": [],
   "source": [
    "def totalSentences(sentencesClass):\n",
    "    size = 0\n",
    "    for i in range(0, len(sentencesClass)):\n",
    "        size += len(sentencesClass[i])\n",
    "    return size;"
   ]
  },
  {
   "cell_type": "code",
   "execution_count": 13,
   "metadata": {
    "collapsed": false
   },
   "outputs": [],
   "source": [
    "def defineW2V(sentencesClass, w2v, dim = 300):\n",
    "    n = totalSentences(sentencesClass)\n",
    "    mat = np.zeros((n, dim))\n",
    "    labels = np.zeros(n)\n",
    "    k = 0\n",
    "    for i in range(0, len(sentencesClass)):\n",
    "        for j in range(0, len(sentencesClass[i])):\n",
    "            words = sentencesClass[i][j].split()\n",
    "            d = np.zeros(300)\n",
    "            ind = 0.0\n",
    "            for w in words:\n",
    "                if w not in w2v:\n",
    "                    w2v[w] = np.random.uniform(-0.25,0.25,dim) \n",
    "                d += w2v[w]\n",
    "                ind += 1.0\n",
    "            d /= ind\n",
    "            mat[k] = d\n",
    "            labels[k] = i+1\n",
    "            k+=1\n",
    "    return mat, labels"
   ]
  },
  {
   "cell_type": "code",
   "execution_count": 14,
   "metadata": {
    "collapsed": false
   },
   "outputs": [],
   "source": [
    "def defineW2VPOS(originalSentencesClass, sentencesClass, w2v, dim = 300):\n",
    "    n = totalSentences(sentencesClass)\n",
    "    labels = np.zeros(n)\n",
    "    sizePOS, POSList = getUniquePOS()\n",
    "    mat = np.zeros((n, dim + sizePOS))\n",
    "    matFromW2V, labels = defineW2V(sentencesClass, w2v)\n",
    "    \n",
    "    for i in range(0, n):\n",
    "        mat[i,:dim] = matFromW2V[i]\n",
    "        \n",
    "    k = 0\n",
    "    for i in range(0, len(originalSentencesClass)):\n",
    "        for j in range(0,  len(originalSentencesClass[i])):\n",
    "            pos = POSForSentence(originalSentencesClass[i][j])\n",
    "            for p in pos:\n",
    "                mat[k, dim + POSList.index(p)] = 1.0\n",
    "            k+=1\n",
    "    \n",
    "    return mat, labels"
   ]
  },
  {
   "cell_type": "markdown",
   "metadata": {},
   "source": [
    "### Saving to file"
   ]
  },
  {
   "cell_type": "code",
   "execution_count": 15,
   "metadata": {
    "collapsed": true
   },
   "outputs": [],
   "source": [
    "def savew2vToFile(w2v):\n",
    "    fileName = \"word2VecDict.npy\"\n",
    "    np.save(fileName, w2v)"
   ]
  },
  {
   "cell_type": "code",
   "execution_count": 16,
   "metadata": {
    "collapsed": true
   },
   "outputs": [],
   "source": [
    "def finalFeaturesLabel(X,y):\n",
    "    n, d = X.shape\n",
    "    finalMat = np.zeros((n,d+1))\n",
    "    for i in range(0, n):\n",
    "        finalMat[i, 0] = y[i]\n",
    "        finalMat[i, 1:] = X[i]\n",
    "    return finalMat"
   ]
  },
  {
   "cell_type": "code",
   "execution_count": 17,
   "metadata": {
    "collapsed": true
   },
   "outputs": [],
   "source": [
    "def saveW2V(fileName, finalMat):\n",
    "    np.save(fileName, finalMat)"
   ]
  },
  {
   "cell_type": "markdown",
   "metadata": {},
   "source": [
    "### Loading from file"
   ]
  },
  {
   "cell_type": "code",
   "execution_count": 18,
   "metadata": {
    "collapsed": true
   },
   "outputs": [],
   "source": [
    "def loadW2V():\n",
    "    w2v = np.load('word2VecDict.npy').item()\n",
    "    \n",
    "    i = 0\n",
    "    for key, value in w2v.iteritems():\n",
    "        if i>10:\n",
    "            break\n",
    "        print key, value\n",
    "        i = i + 1"
   ]
  },
  {
   "cell_type": "code",
   "execution_count": 19,
   "metadata": {
    "collapsed": true
   },
   "outputs": [],
   "source": [
    "def main():\n",
    "    dirName = \"Email-classification_dataset/\"\n",
    "    classes = [1,2,3,4,5]\n",
    "    fileName = [\"RD-positive-800.txt\", \"meetings-positive-800.txt\", \"negative-800.txt\", \"fyi-positive-800.txt\", \"tp-positive-500.txt\",]\n",
    "    originalsentencesClass = sentenceExtractionForTraining(dirName, fileName, classes)\n",
    "    sentencesClass = removeFC(originalsentencesClass)\n",
    "    w2v = initializeWordVecs(sentencesClass)\n",
    "    \n",
    "    savew2vToFile(w2v)\n",
    "    \n",
    "    XW2V, yW2V = defineW2V(sentencesClass, w2v)\n",
    "    \n",
    "    XW2VPOS, yW2VPOS = defineW2VPOS(originalsentencesClass, sentencesClass, w2v)\n",
    "    \n",
    "    finalMatW2V = finalFeaturesLabel(XW2V, yW2V)\n",
    "    finalMatW2VPOS = finalFeaturesLabel(XW2VPOS, yW2VPOS)\n",
    "    \n",
    "    saveW2V(\"w2v.npy\",finalMatW2V)\n",
    "    saveW2V(\"w2vpos.npy\",finalMatW2VPOS)"
   ]
  },
  {
   "cell_type": "code",
   "execution_count": 20,
   "metadata": {
    "collapsed": false
   },
   "outputs": [],
   "source": [
    "if __name__==\"__main__\":\n",
    "    main()"
   ]
  }
 ],
 "metadata": {
  "kernelspec": {
   "display_name": "Python 2",
   "language": "python",
   "name": "python2"
  },
  "language_info": {
   "codemirror_mode": {
    "name": "ipython",
    "version": 2
   },
   "file_extension": ".py",
   "mimetype": "text/x-python",
   "name": "python",
   "nbconvert_exporter": "python",
   "pygments_lexer": "ipython2",
   "version": "2.7.13"
  }
 },
 "nbformat": 4,
 "nbformat_minor": 2
}
